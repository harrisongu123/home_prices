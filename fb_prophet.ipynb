{
  "nbformat": 4,
  "nbformat_minor": 0,
  "metadata": {
    "colab": {
      "name": "fb_prophet.ipynb",
      "provenance": []
    },
    "kernelspec": {
      "name": "python3",
      "display_name": "Python 3"
    },
    "language_info": {
      "name": "python"
    }
  },
  "cells": [
    {
      "cell_type": "code",
      "metadata": {
        "colab": {
          "base_uri": "https://localhost:8080/"
        },
        "id": "Srs_bjtdLojJ",
        "outputId": "6ef88925-ad5a-48d5-9fbb-1ed251364304"
      },
      "source": [
        "from google.colab import drive\n",
        "drive.mount('/content/drive')"
      ],
      "execution_count": 6,
      "outputs": [
        {
          "output_type": "stream",
          "name": "stdout",
          "text": [
            "Drive already mounted at /content/drive; to attempt to forcibly remount, call drive.mount(\"/content/drive\", force_remount=True).\n"
          ]
        }
      ]
    },
    {
      "cell_type": "code",
      "metadata": {
        "id": "KBlmU8iEL8t5"
      },
      "source": [
        "import math\n",
        "import pandas as pd\n",
        "import numpy as np\n",
        "import matplotlib.pyplot as plt\n",
        "import matplotlib\n",
        "import seaborn as sns\n",
        "%matplotlib inline\n",
        "from sklearn.metrics import mean_squared_error\n",
        "import warnings\n",
        "warnings.filterwarnings('ignore')\n",
        "from fbprophet import Prophet"
      ],
      "execution_count": 3,
      "outputs": []
    },
    {
      "cell_type": "code",
      "metadata": {
        "id": "FsJlmNubMKIk"
      },
      "source": [
        "df = pd.read_csv('/content/drive/MyDrive/zillow_data.csv')\n",
        "ny = df[df['City'] == 'New York']\n",
        "ny = ny[ny['CountyName'] == 'New York']\n",
        "ny.dropna(inplace=True)\n",
        "la = df[df['City'] == 'Los Angeles']\n",
        "la.dropna(inplace=True)\n",
        "chicago = df[df['City'] == 'Chicago']\n",
        "chicago.dropna(inplace=True)\n",
        "chicago1 = chicago.sort_values(by='SizeRank', ascending=True)[:2]\n",
        "la1 = la.sort_values(by='SizeRank', ascending=True)[:2]\n",
        "df1 = pd.concat([chicago1, la1, ny])\n",
        "df1.reset_index(inplace=True)\n",
        "df1.drop('index', axis=1, inplace=True)\n",
        "df1.set_index('RegionName', inplace=True)\n",
        "drop = ['RegionID', 'City', 'State', 'Metro', 'CountyName', 'SizeRank']\n",
        "dates = df1.drop(drop, axis=1)"
      ],
      "execution_count": 8,
      "outputs": []
    },
    {
      "cell_type": "code",
      "metadata": {
        "id": "U4IdsqIxMvsJ"
      },
      "source": [
        "def get_datetimes(df):\n",
        "    \"\"\"\n",
        "    Takes a dataframe:\n",
        "    returns only those column names that can be converted into datetime objects \n",
        "    as datetime objects.\n",
        "    NOTE number of returned columns may not match total number of columns in passed dataframe\n",
        "    \"\"\"\n",
        "    return pd.to_datetime(df.columns.values, format='%Y-%m')"
      ],
      "execution_count": 9,
      "outputs": []
    },
    {
      "cell_type": "code",
      "metadata": {
        "colab": {
          "base_uri": "https://localhost:8080/",
          "height": 235
        },
        "id": "MNcRBKKUNpjh",
        "outputId": "ad1d91cc-19d8-4e58-a86c-5608c3da41a2"
      },
      "source": [
        "columns_new = get_datetimes(dates)\n",
        "dates.columns = columns_new\n",
        "dates.rename_axis(None, inplace=True)\n",
        "transposed = dates.T\n",
        "transposed.rename_axis('Dates', inplace=True)\n",
        "transposed.head()"
      ],
      "execution_count": 10,
      "outputs": [
        {
          "output_type": "execute_result",
          "data": {
            "text/html": [
              "<div>\n",
              "<style scoped>\n",
              "    .dataframe tbody tr th:only-of-type {\n",
              "        vertical-align: middle;\n",
              "    }\n",
              "\n",
              "    .dataframe tbody tr th {\n",
              "        vertical-align: top;\n",
              "    }\n",
              "\n",
              "    .dataframe thead th {\n",
              "        text-align: right;\n",
              "    }\n",
              "</style>\n",
              "<table border=\"1\" class=\"dataframe\">\n",
              "  <thead>\n",
              "    <tr style=\"text-align: right;\">\n",
              "      <th></th>\n",
              "      <th>60657</th>\n",
              "      <th>60614</th>\n",
              "      <th>90046</th>\n",
              "      <th>90034</th>\n",
              "      <th>10128</th>\n",
              "      <th>11106</th>\n",
              "    </tr>\n",
              "    <tr>\n",
              "      <th>Dates</th>\n",
              "      <th></th>\n",
              "      <th></th>\n",
              "      <th></th>\n",
              "      <th></th>\n",
              "      <th></th>\n",
              "      <th></th>\n",
              "    </tr>\n",
              "  </thead>\n",
              "  <tbody>\n",
              "    <tr>\n",
              "      <th>1996-04-01</th>\n",
              "      <td>334200.0</td>\n",
              "      <td>498100.0</td>\n",
              "      <td>340600.0</td>\n",
              "      <td>231300.0</td>\n",
              "      <td>3676700.0</td>\n",
              "      <td>164600.0</td>\n",
              "    </tr>\n",
              "    <tr>\n",
              "      <th>1996-05-01</th>\n",
              "      <td>335400.0</td>\n",
              "      <td>500900.0</td>\n",
              "      <td>341700.0</td>\n",
              "      <td>231700.0</td>\n",
              "      <td>3704200.0</td>\n",
              "      <td>165300.0</td>\n",
              "    </tr>\n",
              "    <tr>\n",
              "      <th>1996-06-01</th>\n",
              "      <td>336500.0</td>\n",
              "      <td>503100.0</td>\n",
              "      <td>343000.0</td>\n",
              "      <td>232100.0</td>\n",
              "      <td>3729600.0</td>\n",
              "      <td>165900.0</td>\n",
              "    </tr>\n",
              "    <tr>\n",
              "      <th>1996-07-01</th>\n",
              "      <td>337600.0</td>\n",
              "      <td>504600.0</td>\n",
              "      <td>344400.0</td>\n",
              "      <td>232400.0</td>\n",
              "      <td>3754600.0</td>\n",
              "      <td>166700.0</td>\n",
              "    </tr>\n",
              "    <tr>\n",
              "      <th>1996-08-01</th>\n",
              "      <td>338500.0</td>\n",
              "      <td>505500.0</td>\n",
              "      <td>346100.0</td>\n",
              "      <td>232700.0</td>\n",
              "      <td>3781800.0</td>\n",
              "      <td>167400.0</td>\n",
              "    </tr>\n",
              "  </tbody>\n",
              "</table>\n",
              "</div>"
            ],
            "text/plain": [
              "               60657     60614     90046     90034      10128     11106\n",
              "Dates                                                                  \n",
              "1996-04-01  334200.0  498100.0  340600.0  231300.0  3676700.0  164600.0\n",
              "1996-05-01  335400.0  500900.0  341700.0  231700.0  3704200.0  165300.0\n",
              "1996-06-01  336500.0  503100.0  343000.0  232100.0  3729600.0  165900.0\n",
              "1996-07-01  337600.0  504600.0  344400.0  232400.0  3754600.0  166700.0\n",
              "1996-08-01  338500.0  505500.0  346100.0  232700.0  3781800.0  167400.0"
            ]
          },
          "metadata": {},
          "execution_count": 10
        }
      ]
    },
    {
      "cell_type": "code",
      "metadata": {
        "id": "QBV6yXGvN1a7"
      },
      "source": [
        "chi1_norm = pd.DataFrame(transposed[60657])\n",
        "chi2_norm = pd.DataFrame(transposed[60614])\n",
        "la1_norm = pd.DataFrame(transposed[90046])\n",
        "la2_norm = pd.DataFrame(transposed[90034])\n",
        "ny1_norm = pd.DataFrame(transposed[10128])\n",
        "ny2_norm = pd.DataFrame(transposed[11106])"
      ],
      "execution_count": 39,
      "outputs": []
    },
    {
      "cell_type": "markdown",
      "metadata": {
        "id": "QO1A4xZB7P4z"
      },
      "source": [
        "FB Prophet only takes 2 column data labeled 'ds' and 'y'"
      ]
    },
    {
      "cell_type": "code",
      "metadata": {
        "id": "e_ngBnMDP6bu"
      },
      "source": [
        "def eda(data):\n",
        "  data['ds'] = data.index\n",
        "  data['y'] = data[data.columns[0]]\n",
        "  data.reset_index(inplace=True)\n",
        "  data.drop(data.columns[1], axis=1, inplace=True)\n",
        "  data.drop(data.columns[0], axis=1, inplace=True)\n",
        "\n",
        "  return data"
      ],
      "execution_count": 41,
      "outputs": []
    },
    {
      "cell_type": "code",
      "metadata": {
        "id": "-gLWrno-RP6-"
      },
      "source": [
        "chi1 = eda(chi1_norm)\n",
        "chi2 = eda(chi2_norm)\n",
        "la1 = eda(la1_norm)\n",
        "la2 = eda(la2_norm)\n",
        "ny1 = eda(ny1_norm)\n",
        "ny2 = eda(ny2_norm)"
      ],
      "execution_count": 42,
      "outputs": []
    },
    {
      "cell_type": "code",
      "metadata": {
        "id": "Jh-LFXXOSb-l"
      },
      "source": [
        "zips = [chi1, chi2, la1, la2, ny1, ny2]"
      ],
      "execution_count": 46,
      "outputs": []
    },
    {
      "cell_type": "code",
      "metadata": {
        "id": "ZOlKpM1zN5ja"
      },
      "source": [
        "def prophet(data, years):\n",
        "    train, test = data.iloc[:199], data.iloc[199:]\n",
        "    \n",
        "    #first model is used to calculate train/test RMSE\n",
        "    model = Prophet(interval_width=.95)\n",
        "    model.fit(train)\n",
        "    \n",
        "    future_dates = model.make_future_dataframe(periods=66, freq='MS')\n",
        "    train_forecast = model.predict(pd.DataFrame(train['ds']))\n",
        "    test_forecast = model.predict(future_dates)[199:]\n",
        "    \n",
        "    trainpreds = train_forecast['yhat']\n",
        "    testpreds = test_forecast['yhat']\n",
        "    \n",
        "    #model2 is fitted to all the data and used to predict future prices\n",
        "    model2 = Prophet(interval_width=.95)\n",
        "    model2.fit(data)\n",
        "\n",
        "    future_dates2 = model2.make_future_dataframe(periods=12*years, freq='MS')\n",
        "    test_forecast2 = model2.predict(future_dates2)[265:]\n",
        "    testpreds2 = test_forecast2['yhat']\n",
        "    original_price = data['y'][264]\n",
        "    final_price = testpreds2[264+12*years]\n",
        "    roi = ((final_price - original_price)/original_price)*100\n",
        "\n",
        "    plt.plot(data['y'], label='Actual')\n",
        "    plt.plot(testpreds2, label='Prediction')\n",
        "    plt.legend()\n",
        "    plt.show()\n",
        "    \n",
        "    print('Train RMSE: ', mean_squared_error(train['y'], trainpreds)**0.5)\n",
        "    print('Test RMSE: ', mean_squared_error(test['y'], testpreds)**0.5)\n",
        "    print('Price Today: ${}'.format(original_price))\n",
        "    print('Price in {} years: ${}'.format(years, final_price))\n",
        "    print('ROI: {}%'.format(roi))"
      ],
      "execution_count": 75,
      "outputs": []
    },
    {
      "cell_type": "code",
      "metadata": {
        "colab": {
          "base_uri": "https://localhost:8080/",
          "height": 1000
        },
        "id": "MNF_srFAN_zY",
        "outputId": "4e35e417-e4ba-4bb6-d9fe-7136b861b726"
      },
      "source": [
        "for x in zips:\n",
        "    prophet(x, 20)"
      ],
      "execution_count": 77,
      "outputs": [
        {
          "output_type": "stream",
          "name": "stderr",
          "text": [
            "INFO:fbprophet:Disabling weekly seasonality. Run prophet with weekly_seasonality=True to override this.\n",
            "INFO:fbprophet:Disabling daily seasonality. Run prophet with daily_seasonality=True to override this.\n",
            "INFO:fbprophet:Disabling weekly seasonality. Run prophet with weekly_seasonality=True to override this.\n",
            "INFO:fbprophet:Disabling daily seasonality. Run prophet with daily_seasonality=True to override this.\n"
          ]
        },
        {
          "output_type": "display_data",
          "data": {
            "image/png": "[encoded data removed]",
            "text/plain": [
              "<Figure size 432x288 with 1 Axes>"
            ]
          },
          "metadata": {
            "needs_background": "light"
          }
        },
        {
          "output_type": "stream",
          "name": "stderr",
          "text": [
            "INFO:fbprophet:Disabling weekly seasonality. Run prophet with weekly_seasonality=True to override this.\n",
            "INFO:fbprophet:Disabling daily seasonality. Run prophet with daily_seasonality=True to override this.\n"
          ]
        },
        {
          "output_type": "stream",
          "name": "stdout",
          "text": [
            "Train RMSE:  9235.760096281256\n",
            "Test RMSE:  251283.0356793832\n",
            "Price Today: $1030600.0\n",
            "Price in 20 years: $1856913.8676463163\n",
            "ROI: 80.17794174716828%\n"
          ]
        },
        {
          "output_type": "stream",
          "name": "stderr",
          "text": [
            "INFO:fbprophet:Disabling weekly seasonality. Run prophet with weekly_seasonality=True to override this.\n",
            "INFO:fbprophet:Disabling daily seasonality. Run prophet with daily_seasonality=True to override this.\n"
          ]
        },
        {
          "output_type": "display_data",
          "data": {
            "image/png": "[encoded data removed]",
            "text/plain": [
              "<Figure size 432x288 with 1 Axes>"
            ]
          },
          "metadata": {
            "needs_background": "light"
          }
        },
        {
          "output_type": "stream",
          "name": "stderr",
          "text": [
            "INFO:fbprophet:Disabling weekly seasonality. Run prophet with weekly_seasonality=True to override this.\n",
            "INFO:fbprophet:Disabling daily seasonality. Run prophet with daily_seasonality=True to override this.\n"
          ]
        },
        {
          "output_type": "stream",
          "name": "stdout",
          "text": [
            "Train RMSE:  15466.284357510704\n",
            "Test RMSE:  367816.3813903493\n",
            "Price Today: $1307000.0\n",
            "Price in 20 years: $2137908.8887536773\n",
            "ROI: 63.57374818314286%\n"
          ]
        },
        {
          "output_type": "stream",
          "name": "stderr",
          "text": [
            "INFO:fbprophet:Disabling weekly seasonality. Run prophet with weekly_seasonality=True to override this.\n",
            "INFO:fbprophet:Disabling daily seasonality. Run prophet with daily_seasonality=True to override this.\n"
          ]
        },
        {
          "output_type": "display_data",
          "data": {
            "image/png": "[encoded data removed]",
            "text/plain": [
              "<Figure size 432x288 with 1 Axes>"
            ]
          },
          "metadata": {
            "needs_background": "light"
          }
        },
        {
          "output_type": "stream",
          "name": "stderr",
          "text": [
            "INFO:fbprophet:Disabling weekly seasonality. Run prophet with weekly_seasonality=True to override this.\n",
            "INFO:fbprophet:Disabling daily seasonality. Run prophet with daily_seasonality=True to override this.\n"
          ]
        },
        {
          "output_type": "stream",
          "name": "stdout",
          "text": [
            "Train RMSE:  22867.472984798715\n",
            "Test RMSE:  837824.2005666224\n",
            "Price Today: $1966900.0\n",
            "Price in 20 years: $5317138.608087969\n",
            "ROI: 170.3309069138222%\n"
          ]
        },
        {
          "output_type": "stream",
          "name": "stderr",
          "text": [
            "INFO:fbprophet:Disabling weekly seasonality. Run prophet with weekly_seasonality=True to override this.\n",
            "INFO:fbprophet:Disabling daily seasonality. Run prophet with daily_seasonality=True to override this.\n"
          ]
        },
        {
          "output_type": "display_data",
          "data": {
            "image/png": "[encoded data removed]",
            "text/plain": [
              "<Figure size 432x288 with 1 Axes>"
            ]
          },
          "metadata": {
            "needs_background": "light"
          }
        },
        {
          "output_type": "stream",
          "name": "stderr",
          "text": [
            "INFO:fbprophet:Disabling weekly seasonality. Run prophet with weekly_seasonality=True to override this.\n",
            "INFO:fbprophet:Disabling daily seasonality. Run prophet with daily_seasonality=True to override this.\n"
          ]
        },
        {
          "output_type": "stream",
          "name": "stdout",
          "text": [
            "Train RMSE:  5589.19941814642\n",
            "Test RMSE:  420603.1579835149\n",
            "Price Today: $1419100.0\n",
            "Price in 20 years: $3853978.9089764366\n",
            "ROI: 171.57909301504029%\n"
          ]
        },
        {
          "output_type": "stream",
          "name": "stderr",
          "text": [
            "INFO:fbprophet:Disabling weekly seasonality. Run prophet with weekly_seasonality=True to override this.\n",
            "INFO:fbprophet:Disabling daily seasonality. Run prophet with daily_seasonality=True to override this.\n"
          ]
        },
        {
          "output_type": "display_data",
          "data": {
            "image/png": "[encoded data removed]",
            "text/plain": [
              "<Figure size 432x288 with 1 Axes>"
            ]
          },
          "metadata": {
            "needs_background": "light"
          }
        },
        {
          "output_type": "stream",
          "name": "stderr",
          "text": [
            "INFO:fbprophet:Disabling weekly seasonality. Run prophet with weekly_seasonality=True to override this.\n",
            "INFO:fbprophet:Disabling daily seasonality. Run prophet with daily_seasonality=True to override this.\n"
          ]
        },
        {
          "output_type": "stream",
          "name": "stdout",
          "text": [
            "Train RMSE:  332096.04873819015\n",
            "Test RMSE:  1025583.363922284\n",
            "Price Today: $7386600.0\n",
            "Price in 20 years: $12981069.972638084\n",
            "ROI: 75.73809293366479%\n"
          ]
        },
        {
          "output_type": "stream",
          "name": "stderr",
          "text": [
            "INFO:fbprophet:Disabling weekly seasonality. Run prophet with weekly_seasonality=True to override this.\n",
            "INFO:fbprophet:Disabling daily seasonality. Run prophet with daily_seasonality=True to override this.\n"
          ]
        },
        {
          "output_type": "display_data",
          "data": {
            "image/png": "[encoded data removed]",
            "text/plain": [
              "<Figure size 432x288 with 1 Axes>"
            ]
          },
          "metadata": {
            "needs_background": "light"
          }
        },
        {
          "output_type": "stream",
          "name": "stdout",
          "text": [
            "Train RMSE:  15832.489620661316\n",
            "Test RMSE:  239947.33736432958\n",
            "Price Today: $1104300.0\n",
            "Price in 20 years: $3205375.4459766615\n",
            "ROI: 190.26310295903843%\n"
          ]
        }
      ]
    },
    {
      "cell_type": "code",
      "metadata": {
        "id": "jfBadAgHa6AQ"
      },
      "source": [
        ""
      ],
      "execution_count": null,
      "outputs": []
    }
  ]
}